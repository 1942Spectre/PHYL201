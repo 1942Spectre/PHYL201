{
 "cells": [
  {
   "cell_type": "code",
   "execution_count": 30,
   "id": "5a156cb9-7fe8-43cd-a9b2-11f4ac78d283",
   "metadata": {},
   "outputs": [],
   "source": [
    "import matplotlib.pyplot as plt"
   ]
  },
  {
   "cell_type": "code",
   "execution_count": 31,
   "id": "e8d76d1e-1ede-44a2-963a-2596c20eed26",
   "metadata": {},
   "outputs": [],
   "source": [
    "import numpy as np"
   ]
  },
  {
   "cell_type": "code",
   "execution_count": 32,
   "id": "8a45e5be-aa4c-4d81-81a5-d886db05af8a",
   "metadata": {},
   "outputs": [],
   "source": [
    "import seaborn as sns\n",
    "sns.set_theme()"
   ]
  },
  {
   "cell_type": "code",
   "execution_count": 33,
   "id": "ba87c83d-191f-409f-9476-a00725f2ccfe",
   "metadata": {},
   "outputs": [],
   "source": [
    "def print_table(data, column_headers = None,):\n",
    "\n",
    "    collection_column_widths = []\n",
    "    collection_lengths = []\n",
    "\n",
    "    # if dict, change it to list\n",
    "    if isinstance(data,dict):\n",
    "        keys = []\n",
    "        for key in data.keys():\n",
    "            keys.append(key)\n",
    "        \n",
    "        values = []\n",
    "        for collection in data.values():\n",
    "            values.append(collection)\n",
    "\n",
    "        if not column_headers:\n",
    "            column_headers = keys\n",
    "        data = values\n",
    "    \n",
    "    \n",
    "    \n",
    "    if column_headers:\n",
    "        if(len(column_headers)!= len(data)):\n",
    "            raise ValueError(\"The number of columns and number of column headers do not match.\")\n",
    "        for i in range(len(data)):\n",
    "            # In case its a numpy array, covert it to list.\n",
    "            data[i] = list(data[i])\n",
    "            data[i].insert(0,column_headers[i])\n",
    "                \n",
    "\n",
    "    for collection in data:\n",
    "        collection_longest_entry = max(collection , key = lambda x: len(str(x)))\n",
    "        collection_column_widths.append(len(str(collection_longest_entry)))\n",
    "        collection_lengths.append(len(collection))\n",
    "\n",
    "    collection_length = collection_lengths[0]\n",
    "\n",
    "    ## Check if all columns have the same number of rows\n",
    "    if not all(element == collection_length for element in collection_lengths):\n",
    "        raise(ValueError(\"Number of rows do not match.\"))\n",
    "        \n",
    "    for row in range(collection_length):\n",
    "        # i = row number\n",
    "        if(row == 0):\n",
    "            if column_headers:\n",
    "                print(\"#\" * (sum([item + 5 for item in collection_column_widths]) + 1 ))\n",
    "        \n",
    "        for col in range(len(data)):\n",
    "            print(\"#\" + str(data[col][row]).center(collection_column_widths[col] + 4) , end=\"\")\n",
    "            \n",
    "        print(\"#\")\n",
    "        \n",
    "        if(row == 0):\n",
    "            if column_headers:\n",
    "                print(\"#\" * (sum([item + 5 for item in collection_column_widths]) + 1 ))"
   ]
  },
  {
   "cell_type": "code",
   "execution_count": 34,
   "id": "45c4704e-f70e-4b38-b80e-b0c3539d7513",
   "metadata": {},
   "outputs": [],
   "source": [
    "a = 0.215\n",
    "a_prime = 0.100\n",
    "b = 1.643\n",
    "L = 0.101\n",
    "A = L*L\n",
    "Ro = 0.040\n",
    "Rc = -0.008\n",
    "D = np.abs(Ro-Rc)\n",
    "d = D*a / (2*b)\n",
    "g = 9.81"
   ]
  },
  {
   "cell_type": "code",
   "execution_count": 35,
   "id": "6d87aa0b-66cb-4cac-b88a-44b1b597d170",
   "metadata": {},
   "outputs": [
    {
     "data": {
      "text/plain": [
       "0.010201000000000002"
      ]
     },
     "execution_count": 35,
     "metadata": {},
     "output_type": "execute_result"
    }
   ],
   "source": [
    "A"
   ]
  },
  {
   "cell_type": "code",
   "execution_count": 36,
   "id": "9747b6fe-b145-4b74-aece-f97f3b51225c",
   "metadata": {},
   "outputs": [
    {
     "data": {
      "text/plain": [
       "0.048"
      ]
     },
     "execution_count": 36,
     "metadata": {},
     "output_type": "execute_result"
    }
   ],
   "source": [
    "D"
   ]
  },
  {
   "cell_type": "code",
   "execution_count": 37,
   "id": "e4d03820-a687-42fb-9528-107e5ff90e28",
   "metadata": {},
   "outputs": [
    {
     "data": {
      "text/plain": [
       "0.003140596469872185"
      ]
     },
     "execution_count": 37,
     "metadata": {},
     "output_type": "execute_result"
    }
   ],
   "source": [
    "d"
   ]
  },
  {
   "cell_type": "code",
   "execution_count": 38,
   "id": "a0393977-1b16-4c87-904d-e6d7d243e5ee",
   "metadata": {},
   "outputs": [],
   "source": [
    "Epsilon_0 = 8.85 * 10**(-12)"
   ]
  },
  {
   "cell_type": "code",
   "execution_count": 39,
   "id": "e48ce153-e5b7-4b41-a0ce-0dc57d4d7dc8",
   "metadata": {},
   "outputs": [],
   "source": [
    "k = ( Epsilon_0 * A ) / (2*d**2)"
   ]
  },
  {
   "cell_type": "code",
   "execution_count": 40,
   "id": "06fe4168-2579-418a-a8d6-7a54a0189d99",
   "metadata": {},
   "outputs": [],
   "source": [
    "Masses = [1*10**-5,1.5*10**-5,2*10**-5,3*10**-5,4*10**-5]"
   ]
  },
  {
   "cell_type": "code",
   "execution_count": 41,
   "id": "9899848a-6570-4688-860b-a260c1705595",
   "metadata": {},
   "outputs": [],
   "source": [
    "Fe_s = [m*g*a_prime/a for m in Masses]"
   ]
  },
  {
   "cell_type": "code",
   "execution_count": 42,
   "id": "0949f58c-45a0-4a9f-b5cd-1d8c41e20f21",
   "metadata": {},
   "outputs": [],
   "source": [
    "V_squareds = [Fe / k for Fe in Fe_s]"
   ]
  },
  {
   "cell_type": "code",
   "execution_count": 43,
   "id": "794353f4-7c23-4cd8-8a8b-16eb1a42a241",
   "metadata": {},
   "outputs": [],
   "source": [
    "V_s = [V**(1/2) for V in V_squareds]"
   ]
  },
  {
   "cell_type": "code",
   "execution_count": 44,
   "id": "3ec3bcd1-26f0-4c83-be2b-5c3f5b600088",
   "metadata": {},
   "outputs": [
    {
     "name": "stdout",
     "output_type": "stream",
     "text": [
      "####################################################################################################\n",
      "#           Mass           #            Fe           #          V           #         V^2          #\n",
      "####################################################################################################\n",
      "#          1e-05           #   4.56279069767442e-05  #  99.85030611094577   #  9970.083630449573   #\n",
      "#  1.5000000000000002e-05  #   6.84418604651163e-05  #  122.29115031626108  #  14955.125445674363  #\n",
      "#          2e-05           #   9.12558139534884e-05  #  141.20965710920464  #  19940.167260899147  #\n",
      "#  3.0000000000000004e-05  #  0.0001368837209302326  #  172.94580333546324  #  29910.250891348725  #\n",
      "#          4e-05           #  0.0001825116279069768  #  199.70061222189153  #  39880.33452179829   #\n"
     ]
    }
   ],
   "source": [
    "print_table([Masses,Fe_s,V_s,V_squareds] , column_headers = [\"Mass\",\"Fe\",\"V\",\"V^2\"])"
   ]
  },
  {
   "cell_type": "code",
   "execution_count": 45,
   "id": "be040d07-c2f3-4293-8cd5-3cea183d0ebe",
   "metadata": {},
   "outputs": [],
   "source": [
    "Voltages = [170,210,230,290,310]"
   ]
  },
  {
   "cell_type": "code",
   "execution_count": 46,
   "id": "44837ef6-8bcc-410d-b0a6-19121d7b0287",
   "metadata": {},
   "outputs": [],
   "source": [
    "Squared_voltages = [v**2 for v in Voltages]"
   ]
  },
  {
   "cell_type": "code",
   "execution_count": 47,
   "id": "2a0f03fa-e973-4843-9bd0-4b00e4731ed1",
   "metadata": {},
   "outputs": [],
   "source": [
    "def get_Epsilon0_from_k(k):\n",
    "    Epsilon0 = k*2*d**2 / A\n",
    "    return Epsilon0"
   ]
  },
  {
   "cell_type": "code",
   "execution_count": null,
   "id": "daed6988-89e3-4149-a4a4-90df306e372b",
   "metadata": {},
   "outputs": [],
   "source": []
  },
  {
   "cell_type": "code",
   "execution_count": 48,
   "id": "9eb3805f-77c1-45f1-968a-d498640e4ed2",
   "metadata": {},
   "outputs": [],
   "source": [
    "%matplotlib qt"
   ]
  },
  {
   "cell_type": "code",
   "execution_count": 49,
   "id": "71043812-f220-4dd8-8a6c-c57b56a278af",
   "metadata": {},
   "outputs": [
    {
     "data": {
      "text/plain": [
       "[<matplotlib.lines.Line2D at 0x1a7cac286c8>]"
      ]
     },
     "execution_count": 49,
     "metadata": {},
     "output_type": "execute_result"
    }
   ],
   "source": [
    "plt.locator_params(axis='y',tight=True, nbins=22)\n",
    "plt.locator_params(axis='x', nbins=15)\n",
    "plt.scatter(Squared_voltages,Fe_s,color=\"green\")\n",
    "m, b = np.polyfit(Squared_voltages, Fe_s, 1)\n",
    "plt.plot(Squared_voltages,m*np.array(Squared_voltages)+b,color=\"red\")\n"
   ]
  },
  {
   "cell_type": "code",
   "execution_count": 50,
   "id": "208df52e-b14a-4f11-8c16-37f105f6180d",
   "metadata": {},
   "outputs": [
    {
     "data": {
      "text/plain": [
       "1.935882635040929e-09"
      ]
     },
     "execution_count": 50,
     "metadata": {},
     "output_type": "execute_result"
    }
   ],
   "source": [
    "m"
   ]
  },
  {
   "cell_type": "code",
   "execution_count": 51,
   "id": "3e1add2d-95df-4e1e-876d-3eed0159ae76",
   "metadata": {},
   "outputs": [
    {
     "data": {
      "text/plain": [
       "-1.3570548870693967e-05"
      ]
     },
     "execution_count": 51,
     "metadata": {},
     "output_type": "execute_result"
    }
   ],
   "source": [
    "b"
   ]
  },
  {
   "cell_type": "code",
   "execution_count": 52,
   "id": "99452814-f6f9-49a6-948f-ae43b3ad122d",
   "metadata": {},
   "outputs": [
    {
     "data": {
      "text/plain": [
       "3.743609568862867e-12"
      ]
     },
     "execution_count": 52,
     "metadata": {},
     "output_type": "execute_result"
    }
   ],
   "source": [
    "get_Epsilon0_from_k(m)"
   ]
  },
  {
   "cell_type": "code",
   "execution_count": null,
   "id": "2e29efa9-3fed-4f9d-9d8d-b0e46aa1fb92",
   "metadata": {},
   "outputs": [],
   "source": [
    "plt.locator_params("
   ]
  },
  {
   "cell_type": "code",
   "execution_count": 36,
   "id": "be6a2fca-cdf2-493e-bf08-e773a8ba9bad",
   "metadata": {},
   "outputs": [],
   "source": [
    "V_exp = [190,230,270,310,330]\n",
    "V_exp_sq = [V**2 for V in V_exp]"
   ]
  },
  {
   "cell_type": "code",
   "execution_count": 37,
   "id": "16c7cec3-e8a6-43a2-a6db-a896632e7f8c",
   "metadata": {},
   "outputs": [
    {
     "data": {
      "text/plain": [
       "[36100, 52900, 72900, 96100, 108900]"
      ]
     },
     "execution_count": 37,
     "metadata": {},
     "output_type": "execute_result"
    }
   ],
   "source": [
    "V_exp_sq"
   ]
  },
  {
   "cell_type": "code",
   "execution_count": 38,
   "id": "dae5baf1-c1e7-44be-8489-67a12ec0270b",
   "metadata": {},
   "outputs": [
    {
     "data": {
      "text/plain": [
       "<matplotlib.collections.PathCollection at 0x14771aa91c8>"
      ]
     },
     "execution_count": 38,
     "metadata": {},
     "output_type": "execute_result"
    }
   ],
   "source": [
    "plt.scatter(V_exp_sq,Fe_s)"
   ]
  },
  {
   "cell_type": "code",
   "execution_count": 33,
   "id": "4b9cf4b0-f69d-470c-8d38-2ea82360995d",
   "metadata": {},
   "outputs": [
    {
     "data": {
      "text/plain": [
       "49"
      ]
     },
     "execution_count": 33,
     "metadata": {},
     "output_type": "execute_result"
    }
   ],
   "source": [
    "73-24"
   ]
  },
  {
   "cell_type": "code",
   "execution_count": 34,
   "id": "4761837e-7bf3-4db9-8c6c-838a7eddb77b",
   "metadata": {},
   "outputs": [
    {
     "data": {
      "text/plain": [
       "1.2244897959183673e-09"
      ]
     },
     "execution_count": 34,
     "metadata": {},
     "output_type": "execute_result"
    }
   ],
   "source": [
    "6/49 * 10**-8"
   ]
  },
  {
   "cell_type": "code",
   "execution_count": 35,
   "id": "efcd6a6c-1a04-4b96-8d9f-0fe42595766d",
   "metadata": {},
   "outputs": [
    {
     "data": {
      "text/plain": [
       "2.532353764183949e-12"
      ]
     },
     "execution_count": 35,
     "metadata": {},
     "output_type": "execute_result"
    }
   ],
   "source": [
    "get_Epsilon0_from_k(1.22*10**-9)"
   ]
  },
  {
   "cell_type": "code",
   "execution_count": 36,
   "id": "83c80408-53bf-4838-bbed-a55341cc21d5",
   "metadata": {},
   "outputs": [
    {
     "data": {
      "text/plain": [
       "0.0032537834691501745"
      ]
     },
     "execution_count": 36,
     "metadata": {},
     "output_type": "execute_result"
    }
   ],
   "source": [
    "d"
   ]
  },
  {
   "cell_type": "code",
   "execution_count": 37,
   "id": "e5c81327-f485-4925-981b-71753162e127",
   "metadata": {},
   "outputs": [
    {
     "data": {
      "text/plain": [
       "1.0587106864114944e-05"
      ]
     },
     "execution_count": 37,
     "metadata": {},
     "output_type": "execute_result"
    }
   ],
   "source": [
    "d**2"
   ]
  },
  {
   "cell_type": "code",
   "execution_count": 38,
   "id": "d4db91d1-f73f-4ae3-8277-71d675b942e9",
   "metadata": {},
   "outputs": [
    {
     "data": {
      "text/plain": [
       "0.010201000000000002"
      ]
     },
     "execution_count": 38,
     "metadata": {},
     "output_type": "execute_result"
    }
   ],
   "source": [
    "A"
   ]
  },
  {
   "cell_type": "code",
   "execution_count": 40,
   "id": "251a44bd-9de6-4079-89af-d8eeb9865be9",
   "metadata": {},
   "outputs": [
    {
     "data": {
      "text/plain": [
       "0.7141242937853108"
      ]
     },
     "execution_count": 40,
     "metadata": {},
     "output_type": "execute_result"
    }
   ],
   "source": [
    "(8.85-2.53)/8.85"
   ]
  },
  {
   "cell_type": "code",
   "execution_count": 54,
   "id": "e759b692-990a-4383-a72e-df95ec7fc29b",
   "metadata": {},
   "outputs": [
    {
     "data": {
      "text/plain": [
       "0.5774011299435028"
      ]
     },
     "execution_count": 54,
     "metadata": {},
     "output_type": "execute_result"
    }
   ],
   "source": [
    "(8.85-3.74) / 8.85"
   ]
  },
  {
   "cell_type": "code",
   "execution_count": null,
   "id": "e35fbba3-1c2e-4fb5-976a-5591209f0d31",
   "metadata": {},
   "outputs": [],
   "source": []
  }
 ],
 "metadata": {
  "kernelspec": {
   "display_name": "Python 3 (ipykernel)",
   "language": "python",
   "name": "python3"
  },
  "language_info": {
   "codemirror_mode": {
    "name": "ipython",
    "version": 3
   },
   "file_extension": ".py",
   "mimetype": "text/x-python",
   "name": "python",
   "nbconvert_exporter": "python",
   "pygments_lexer": "ipython3",
   "version": "3.7.11"
  }
 },
 "nbformat": 4,
 "nbformat_minor": 5
}

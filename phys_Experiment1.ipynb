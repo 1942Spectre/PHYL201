{
 "cells": [
  {
   "cell_type": "code",
   "execution_count": 2,
   "id": "def3b9e0-ca62-4390-a805-e5d31903a1f8",
   "metadata": {},
   "outputs": [],
   "source": [
    "import numpy as np"
   ]
  },
  {
   "cell_type": "code",
   "execution_count": 3,
   "id": "c8ffbd6f-37ae-420a-9d6d-e5ec46e9c1c5",
   "metadata": {},
   "outputs": [],
   "source": [
    "delta_vs = [1.60,1.90,0.95,1.20,0.10,1.70,2.50,0.35,1.00,1.10]\n",
    "I_s =      [0.024,0.028,0.015,0.018,0.002,0.025,0.038,0.005,0.015,0.016]"
   ]
  },
  {
   "cell_type": "code",
   "execution_count": 4,
   "id": "f095afeb-54c7-4987-9868-65a08b665d66",
   "metadata": {},
   "outputs": [],
   "source": [
    "def calculate(delta_vs,I_s):\n",
    "    R_s = []\n",
    "    for i in range(0,len(delta_vs)):\n",
    "        R_s.append(delta_vs[i] / I_s[i])\n",
    "    \n",
    "    r_avg = sum(R_s) / len(R_s)\n",
    "    diffs = []\n",
    "    diff_squareds = []\n",
    "    \n",
    "    for R in R_s:\n",
    "        diffs.append(r_avg - R)\n",
    "        diff_squareds.append((R-r_avg)**2)\n",
    "    \n",
    "    print(\"\\n\\n\")\n",
    "    print(f\"Sum of R's = {sum(R_s)}\")\n",
    "    print(f\"Average of R's = {r_avg}\")\n",
    "    print(f\"Sum of squared differences = {sum(diff_squareds)}\")\n",
    "    print(\"\\n\\n\")\n",
    "    \n",
    "    for i in range(0,len(R_s)):\n",
    "        print(f\"{R_s[i]} | {diffs[i]} | {diff_squareds[i]} \\n\")\n",
    "        \n",
    "    print(f\"Standard deviation = {np.sqrt(sum(diff_squareds) / len(diff_squareds)-1)}\")"
   ]
  },
  {
   "cell_type": "code",
   "execution_count": 5,
   "id": "d010fd50-15c8-48ad-8939-d60912dc2efa",
   "metadata": {},
   "outputs": [
    {
     "name": "stdout",
     "output_type": "stream",
     "text": [
      "\n",
      "\n",
      "\n",
      "Sum of R's = 653.7299498746867\n",
      "Average of R's = 65.37299498746867\n",
      "Sum of squared differences = 291.5688925085269\n",
      "\n",
      "\n",
      "\n",
      "66.66666666666667 | -1.293671679197999 | 1.6735864135589704 \n",
      "\n",
      "67.85714285714285 | -2.4841478696741746 | 6.17099063840674 \n",
      "\n",
      "63.333333333333336 | 2.0396616541353367 | 4.160219663350098 \n",
      "\n",
      "66.66666666666667 | -1.293671679197999 | 1.6735864135589704 \n",
      "\n",
      "50.0 | 15.372994987468672 | 236.32897488473694 \n",
      "\n",
      "68.0 | -2.6270050125313276 | 6.90115533586472 \n",
      "\n",
      "65.78947368421053 | -0.4164786967418621 | 0.17345450483979993 \n",
      "\n",
      "70.0 | -4.627005012531328 | 21.409175385990032 \n",
      "\n",
      "66.66666666666667 | -1.293671679197999 | 1.6735864135589704 \n",
      "\n",
      "68.75 | -3.3770050125313276 | 11.404162854661712 \n",
      "\n",
      "Standard deviation = 5.306306554549284\n"
     ]
    }
   ],
   "source": [
    "calculate(delta_vs,I_s)"
   ]
  },
  {
   "cell_type": "code",
   "execution_count": null,
   "id": "786febea-3c21-4f67-8c82-46ef5e4a32d2",
   "metadata": {},
   "outputs": [],
   "source": []
  }
 ],
 "metadata": {
  "kernelspec": {
   "display_name": "Python 3 (ipykernel)",
   "language": "python",
   "name": "python3"
  },
  "language_info": {
   "codemirror_mode": {
    "name": "ipython",
    "version": 3
   },
   "file_extension": ".py",
   "mimetype": "text/x-python",
   "name": "python",
   "nbconvert_exporter": "python",
   "pygments_lexer": "ipython3",
   "version": "3.7.11"
  }
 },
 "nbformat": 4,
 "nbformat_minor": 5
}
